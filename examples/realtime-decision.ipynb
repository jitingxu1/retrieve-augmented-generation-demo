{
 "cells": [
  {
   "cell_type": "code",
   "execution_count": 45,
   "metadata": {},
   "outputs": [],
   "source": [
    "from __future__ import annotations\n",
    "import json\n",
    "from dataclasses import asdict, dataclass\n",
    "from typing import Literal\n",
    "import openai\n",
    "import sys\n",
    "\n",
    "openai.api_key = \"XX\"\n",
    "MODEL = \"gpt-3.5-turbo\"\n",
    "\n",
    "@dataclass\n",
    "class Message:\n",
    "    role: Literal[\"system\", \"user\", \"assistant\"]\n",
    "    content: str\n",
    "\n",
    "    @staticmethod\n",
    "    def from_response(response: dict) -> Message:\n",
    "        response[\"choices\"][0][\"message\"]\n",
    "        return Message(**(response[\"choices\"][0][\"message\"]))\n",
    "\n",
    "    def __str__(self) -> str:\n",
    "        return f\"{self.role}: {self.content}\"\n",
    "\n",
    "\n",
    "class Transcript(list[Message]):\n",
    "    def raw(self) -> list[dict]:\n",
    "        return [asdict(m) for m in self]\n",
    "\n",
    "    def __str__(self) -> str:\n",
    "        return \"\\n\".join([str(m) for m in self])\n",
    "\n",
    "\n",
    "def chat_step(transcript_state: Transcript) -> Message:\n",
    "    # print(transcript_state[-1])\n",
    "    chat_completion = openai.ChatCompletion.create(\n",
    "        model=MODEL, messages=transcript_state.raw()\n",
    "    )\n",
    "    if not isinstance(chat_completion, dict):\n",
    "        raise Exception(f\"Unexpected response: {chat_completion}\")\n",
    "    response_message = Message.from_response(chat_completion)\n",
    "    transcript_state.append(response_message)\n",
    "    # print(response_message)\n",
    "    #print(\"transcript_state = \\n\", transcript_state)\n",
    "    return response_message\n",
    "\n",
    "\n",
    "# if __name__ == \"__main__\":\n",
    "#     if len(sys.argv) < 2:\n",
    "#         print(\"Usage: chat_completion.py <message>\")\n",
    "#         exit(1)\n",
    "#     transcript = Transcript(\n",
    "#         [\n",
    "#             Message(\"user\", \" \".join(sys.argv[1:])),\n",
    "#         ]\n",
    "#     )\n",
    "#     chat_step(transcript)"
   ]
  },
  {
   "cell_type": "code",
   "execution_count": 5,
   "metadata": {},
   "outputs": [
    {
     "name": "stdout",
     "output_type": "stream",
     "text": [
      "user: Hello\n",
      "assistant: Hi there! How can I assist you today?\n"
     ]
    },
    {
     "data": {
      "text/plain": [
       "Message(role='assistant', content='Hi there! How can I assist you today?')"
      ]
     },
     "execution_count": 5,
     "metadata": {},
     "output_type": "execute_result"
    }
   ],
   "source": [
    "transcript = Transcript(\n",
    "    [\n",
    "        Message(\"user\", \"Hello\")\n",
    "    ]\n",
    ")\n",
    "chat_step(transcript)"
   ]
  },
  {
   "cell_type": "code",
   "execution_count": 47,
   "metadata": {},
   "outputs": [],
   "source": [
    "prompt_template = PromptTemplate.from_template(\n",
    "\"\"\"\n",
    "Please extract information from the deal proposal market by three backsticks:\n",
    "\n",
    "#Deal proposal:\n",
    "```{deal_proposal}```\n",
    "\n",
    "#Json output format:\n",
    "{json_schema}\n",
    "\n",
    "# Reuirementts\n",
    "1. Output extracted information in the above json format\n",
    "2. If no information found for that specific column, ignore it.\n",
    "3. Only output the json object\n",
    "\"\"\"\n",
    ")"
   ]
  },
  {
   "attachments": {},
   "cell_type": "markdown",
   "metadata": {},
   "source": [
    "Offline Process\n",
    "- Convert email/voice transactript into predefined stuctured data for database ingestion\n",
    "- Summarize the key information from the context\n",
    "- Find possible match\n",
    "\n",
    "Online process:\n",
    "- ad-hoc Semantic search\n",
    "- "
   ]
  },
  {
   "attachments": {},
   "cell_type": "markdown",
   "metadata": {},
   "source": [
    "## Product recommendation based on inital context"
   ]
  },
  {
   "cell_type": "code",
   "execution_count": 50,
   "metadata": {},
   "outputs": [],
   "source": [
    "## This is generated my OPENAI\n",
    "deal_proposal = '''\n",
    "Subject: Inquiry Regarding Wine Product Shipment Logistics\n",
    "\n",
    "Dear Sarah,\n",
    "\n",
    "I hope this email finds you well. My name is Tom Hanks, and I represent Walmart, a trusted retailer known for its commitment to quality and service. We are currently in search of a reliable logistics partner to facilitate the transportation of our wine products from our storage facilities to our stores every Friday night.\n",
    "\n",
    "Our main requirement is that the chosen carrier possesses the necessary permits and qualifications to handle the transportation of wine products. Given the sensitivity and legal regulations associated with alcoholic beverages, it is imperative that we work with a reputable logistics provider who can ensure compliance with all relevant laws and regulations.\n",
    "\n",
    "We understand that your expertise lies in connecting businesses with suitable carriers, and we believe that your assistance could be invaluable in helping us find the right partner for this specific requirement. Here are some key details about our logistics needs:\n",
    "\n",
    "Frequency: We require weekly transportation services, specifically on Friday nights, to ensure our stores are well-stocked for the weekend.\n",
    "\n",
    "Origin and Destination: The shipments will originate from our storage facility, which is located at located in Fremont, CA, and will be delivered to various Walmart stores in the bay area. The specific store destinations will be provided upon further discussion.\n",
    "\n",
    "Volume: The volume of wine product shipments may vary, so flexibility in accommodating different quantities is essential.\n",
    "\n",
    "Permits: As mentioned earlier, it is mandatory that the carrier holds all the necessary permits and licenses for the transportation of wine products, and they must be compliant with all applicable regulations.\n",
    "\n",
    "Timeliness and Reliability: Punctuality and reliability are critical factors for us. We expect the carrier to adhere to agreed-upon schedules and provide efficient transportation services.\n",
    "\n",
    "In addition to regulatory compliance, we are also mindful of cost-effectiveness. Ideally, we are looking for a carrier that can provide this service within a budget of approximately $1,000 per trip. Cost efficiency is a key factor in our decision-making process.\n",
    "\n",
    "We would greatly appreciate it if you could provide us with information on carriers in your network who meet these criteria. Additionally, any relevant details regarding their experience in handling wine product shipments would be beneficial.\n",
    "\n",
    "If you have any questions or require further information from our end, please do not hesitate to reach out to us at [Your Contact Information].\n",
    "\n",
    "We look forward to your prompt response and hope to establish a successful partnership that ensures the smooth and compliant transportation of our wine products.\n",
    "\n",
    "Thank you for your time and assistance.\n",
    "\n",
    "Sincerely,\n",
    "\n",
    "Tom Hanks\n",
    "Walmart shipment center\n",
    "Walmart\n",
    "tom.hanks@walmart.com\n",
    "800-675-2025\n",
    "'''"
   ]
  },
  {
   "cell_type": "code",
   "execution_count": 51,
   "metadata": {},
   "outputs": [],
   "source": [
    "json_schema = \"\"\"\n",
    "{\n",
    "  \"type\": \"object\",\n",
    "  \"properties\": {\n",
    "    \"Agent_name\": {\n",
    "      \"type\": \"string\",\n",
    "      \"description\": \"The name of the agent who initialized this proposal.\"\n",
    "    },\n",
    "    \"agent_company\": {\n",
    "      \"type\": \"string\",\n",
    "      \"description\": \"The company name of the agent.\"\n",
    "    },\n",
    "    \"agent_email\": {\n",
    "      \"type\": \"string\",\n",
    "      \"format\": \"email\",\n",
    "      \"description\": \"The email address of the agent.\"\n",
    "    },\n",
    "    \"agent_phone_number\": {\n",
    "      \"type\": \"string\",\n",
    "      \"description\": \"The phone number of the agent.\"\n",
    "    },\n",
    "    \"items\": {\n",
    "      \"type\": \"string\",\n",
    "      \"description\": \"The item(s) to be shipped.\"\n",
    "    },\n",
    "    \"requirement\": {\n",
    "      \"type\": \"string\",\n",
    "      \"description\": \"Additional requirements or notes.\"\n",
    "    },\n",
    "    \"origin_city\": {\n",
    "      \"type\": \"string\",\n",
    "      \"description\": \"The origin of the shipment.\"\n",
    "    },\n",
    "    \"destination_city\": {\n",
    "      \"type\": \"string\",\n",
    "      \"description\": \"The destination of the shipment.\"\n",
    "    },\n",
    "    \"frequency\": {\n",
    "      \"type\": \"string\",\n",
    "      \"description\": \"The frequency of the shipment.\"\n",
    "    },\n",
    "    \"Budget\": {\n",
    "      \"type\": \"number\",\n",
    "      \"minimum\": 0,\n",
    "      \"description\": \"The budget associated with the shipment.\"\n",
    "    },\n",
    "    \"Other\": {\n",
    "      \"type\": \"string\",\n",
    "      \"description\": \"Any other relevant information.\"\n",
    "    }\n",
    "  },\n",
    "  \"required\": [\n",
    "    \"Agent_name\",\n",
    "    \"agent_email\",\n",
    "    \"items\",\n",
    "    \"origin\",\n",
    "    \"destination\",\n",
    "\n",
    "  ]\n",
    "}\n",
    "\"\"\""
   ]
  },
  {
   "attachments": {},
   "cell_type": "markdown",
   "metadata": {},
   "source": [
    "### 1. Inquery Generation\n",
    "\n",
    "Automatically convert inquery into database"
   ]
  },
  {
   "cell_type": "code",
   "execution_count": 52,
   "metadata": {},
   "outputs": [],
   "source": [
    "from langchain import PromptTemplate"
   ]
  },
  {
   "cell_type": "code",
   "execution_count": 53,
   "metadata": {},
   "outputs": [],
   "source": [
    "def get_inquery(input_conext, query_schema):\n",
    "    prompt = prompt_template.format(deal_proposal=input_conext, json_schema=query_schema)\n",
    "    transcript = Transcript(\n",
    "        [\n",
    "            Message(\"user\", prompt)\n",
    "        ]\n",
    "    )\n",
    "    res = chat_step(transcript)\n",
    "    return res.content"
   ]
  },
  {
   "cell_type": "code",
   "execution_count": 55,
   "metadata": {},
   "outputs": [],
   "source": [
    "# May need good data valiadtion before pushing into a database\n",
    "inquery_data = get_inquery(deal_proposal, json_schema)"
   ]
  },
  {
   "cell_type": "code",
   "execution_count": 56,
   "metadata": {},
   "outputs": [
    {
     "name": "stdout",
     "output_type": "stream",
     "text": [
      "{\n",
      "  \"Agent_name\": \"Tom Hanks\",\n",
      "  \"agent_company\": \"Walmart shipment center\",\n",
      "  \"agent_email\": \"tom.hanks@walmart.com\",\n",
      "  \"agent_phone_number\": \"800-675-2025\",\n",
      "  \"items\": \"Wine Product\",\n",
      "  \"requirement\": \"Carrier must possess necessary permits and qualifications to handle wine product transportation. Punctuality and reliability are important.\",\n",
      "  \"origin_city\": \"Fremont, CA\",\n",
      "  \"destination_city\": \"Bay Area\",\n",
      "  \"frequency\": \"Weekly transportation services on Friday nights\",\n",
      "  \"Budget\": 1000\n",
      "}\n"
     ]
    }
   ],
   "source": [
    "print(inquery_data)"
   ]
  },
  {
   "attachments": {},
   "cell_type": "markdown",
   "metadata": {},
   "source": [
    "### 2. Inquery Insights"
   ]
  },
  {
   "cell_type": "code",
   "execution_count": 116,
   "metadata": {},
   "outputs": [],
   "source": [
    "key_requirement_prompt = PromptTemplate.from_template(\"\"\"\n",
    "Please summarize the top 5 key requirement form the proposal\n",
    "                                                      \n",
    "## Proposal\n",
    "{proposal}\n",
    "                                                      \n",
    "Output the requirement in the format of list of strings\n",
    "\n",
    "\"\"\"\n",
    ")"
   ]
  },
  {
   "cell_type": "code",
   "execution_count": 117,
   "metadata": {},
   "outputs": [],
   "source": [
    "prompt = key_requirement_prompt.format(proposal=deal_proposal)\n",
    "transcript = Transcript(\n",
    "    [\n",
    "        Message(\"user\", prompt)\n",
    "    ]\n",
    ")\n",
    "res = chat_step(transcript)"
   ]
  },
  {
   "cell_type": "code",
   "execution_count": 118,
   "metadata": {},
   "outputs": [
    {
     "name": "stdout",
     "output_type": "stream",
     "text": [
      "1. Necessary permits and qualifications for handling wine product transportation.\n",
      "2. Weekly transportation services on Friday nights.\n",
      "3. Shipment from Fremont, CA, to various Walmart stores in the bay area.\n",
      "4. Flexibility in accommodating varying volumes of wine product shipments.\n",
      "5. Timeliness, reliability, and adherence to agreed-upon schedules.\n"
     ]
    }
   ],
   "source": [
    "print(res.content)"
   ]
  },
  {
   "cell_type": "code",
   "execution_count": null,
   "metadata": {},
   "outputs": [],
   "source": [
    "# \n",
    "# \n",
    "carriers = [\n",
    "    {\n",
    "        \"name\": \"shipper comany 1\",\n",
    "        \"services\": \"Cross-Border Transportation, Freight Forwarding, Transportation Management\"\n",
    "    },\n",
    "    {\n",
    "        \"name\": \"shipper comany 2\",\n",
    "        \"services\": \"Order fulfillment, Warehousing, Inventory management\"\n",
    "    }\n",
    "\n",
    "]"
   ]
  },
  {
   "cell_type": "code",
   "execution_count": null,
   "metadata": {},
   "outputs": [],
   "source": []
  },
  {
   "cell_type": "code",
   "execution_count": 57,
   "metadata": {},
   "outputs": [],
   "source": [
    "# get recommendations\n",
    "# Assume we have a product/caryyier databse \n",
    "# query the qualified database with customer's inquery\n"
   ]
  },
  {
   "cell_type": "code",
   "execution_count": 124,
   "metadata": {},
   "outputs": [],
   "source": [
    "from abc import ABC, abstractmethod\n",
    "from typing import (\n",
    "    Any,\n",
    "    AsyncIterator,\n",
    "    Callable,\n",
    "    Dict,\n",
    "    Iterator,\n",
    "    List,\n",
    "    Mapping,\n",
    "    Optional,\n",
    "    Sequence,\n",
    "    Tuple,\n",
    "    Type,\n",
    "    Union,\n",
    "    cast,\n",
    ")\n",
    "import logging\n",
    "import warnings\n",
    "class BaseL(ABC):\n",
    "    pass"
   ]
  },
  {
   "cell_type": "code",
   "execution_count": 134,
   "metadata": {},
   "outputs": [
    {
     "name": "stderr",
     "output_type": "stream",
     "text": [
      "/var/folders/_h/0855d0rd19j1vy_kmyvgzr_c0000gn/T/ipykernel_33564/1933672483.py:4: PydanticDeprecatedSince20: Pydantic V1 style `@root_validator` validators are deprecated. You should migrate to Pydantic V2 style `@model_validator` validators, see the migration guide for more details. Deprecated in Pydantic V2.0 to be removed in V3.0. See Pydantic V2 Migration Guide at https://errors.pydantic.dev/2.3/migration/\n",
      "  @root_validator()\n"
     ]
    },
    {
     "ename": "PydanticUserError",
     "evalue": "If you use `@root_validator` with pre=False (the default) you MUST specify `skip_on_failure=True`. Note that `@root_validator` is deprecated and should be replaced with `@model_validator`.\n\nFor further information visit https://errors.pydantic.dev/2.3/u/root-validator-pre-skip",
     "output_type": "error",
     "traceback": [
      "\u001b[0;31m---------------------------------------------------------------------------\u001b[0m",
      "\u001b[0;31mPydanticUserError\u001b[0m                         Traceback (most recent call last)",
      "Cell \u001b[0;32mIn[134], line 2\u001b[0m\n\u001b[1;32m      1\u001b[0m \u001b[39mfrom\u001b[39;00m \u001b[39mpydantic\u001b[39;00m \u001b[39mimport\u001b[39;00m BaseModel, root_validator, ValidationError\n\u001b[0;32m----> 2\u001b[0m \u001b[39mclass\u001b[39;00m \u001b[39mLLMBase\u001b[39;00m(BaseL, ABC):\n\u001b[1;32m      3\u001b[0m     a \u001b[39m=\u001b[39m \u001b[39m1\u001b[39m\n\u001b[1;32m      4\u001b[0m     \u001b[39m@root_validator\u001b[39m()\n\u001b[1;32m      5\u001b[0m     \u001b[39mdef\u001b[39;00m \u001b[39mraise_deprecation\u001b[39m(\u001b[39mcls\u001b[39m, values: Dict) \u001b[39m-\u001b[39m\u001b[39m>\u001b[39m Dict:\n",
      "Cell \u001b[0;32mIn[134], line 4\u001b[0m, in \u001b[0;36mLLMBase\u001b[0;34m()\u001b[0m\n\u001b[1;32m      2\u001b[0m \u001b[39mclass\u001b[39;00m \u001b[39mLLMBase\u001b[39;00m(BaseL, ABC):\n\u001b[1;32m      3\u001b[0m     a \u001b[39m=\u001b[39m \u001b[39m1\u001b[39m\n\u001b[0;32m----> 4\u001b[0m     \u001b[39m@root_validator\u001b[39m()\n\u001b[1;32m      5\u001b[0m     \u001b[39mdef\u001b[39;00m \u001b[39mraise_deprecation\u001b[39m(\u001b[39mcls\u001b[39m, values: Dict) \u001b[39m-\u001b[39m\u001b[39m>\u001b[39m Dict:\n\u001b[1;32m      6\u001b[0m \u001b[39m        \u001b[39m\u001b[39m\"\"\"Raise deprecation warning if callback_manager is used.\"\"\"\u001b[39;00m\n\u001b[1;32m      7\u001b[0m         \u001b[39mprint\u001b[39m(values)\n",
      "File \u001b[0;32m/Library/Frameworks/Python.framework/Versions/3.10/lib/python3.10/site-packages/pydantic/deprecated/class_validators.py:228\u001b[0m, in \u001b[0;36mroot_validator\u001b[0;34m(pre, skip_on_failure, allow_reuse, *__args)\u001b[0m\n\u001b[1;32m    226\u001b[0m mode: Literal[\u001b[39m'\u001b[39m\u001b[39mbefore\u001b[39m\u001b[39m'\u001b[39m, \u001b[39m'\u001b[39m\u001b[39mafter\u001b[39m\u001b[39m'\u001b[39m] \u001b[39m=\u001b[39m \u001b[39m'\u001b[39m\u001b[39mbefore\u001b[39m\u001b[39m'\u001b[39m \u001b[39mif\u001b[39;00m pre \u001b[39mis\u001b[39;00m \u001b[39mTrue\u001b[39;00m \u001b[39melse\u001b[39;00m \u001b[39m'\u001b[39m\u001b[39mafter\u001b[39m\u001b[39m'\u001b[39m\n\u001b[1;32m    227\u001b[0m \u001b[39mif\u001b[39;00m pre \u001b[39mis\u001b[39;00m \u001b[39mFalse\u001b[39;00m \u001b[39mand\u001b[39;00m skip_on_failure \u001b[39mis\u001b[39;00m \u001b[39mnot\u001b[39;00m \u001b[39mTrue\u001b[39;00m:\n\u001b[0;32m--> 228\u001b[0m     \u001b[39mraise\u001b[39;00m PydanticUserError(\n\u001b[1;32m    229\u001b[0m         \u001b[39m'\u001b[39m\u001b[39mIf you use `@root_validator` with pre=False (the default) you MUST specify `skip_on_failure=True`.\u001b[39m\u001b[39m'\u001b[39m\n\u001b[1;32m    230\u001b[0m         \u001b[39m'\u001b[39m\u001b[39m Note that `@root_validator` is deprecated and should be replaced with `@model_validator`.\u001b[39m\u001b[39m'\u001b[39m,\n\u001b[1;32m    231\u001b[0m         code\u001b[39m=\u001b[39m\u001b[39m'\u001b[39m\u001b[39mroot-validator-pre-skip\u001b[39m\u001b[39m'\u001b[39m,\n\u001b[1;32m    232\u001b[0m     )\n\u001b[1;32m    234\u001b[0m wrap \u001b[39m=\u001b[39m partial(_decorators_v1\u001b[39m.\u001b[39mmake_v1_generic_root_validator, pre\u001b[39m=\u001b[39mpre)\n\u001b[1;32m    236\u001b[0m \u001b[39mdef\u001b[39;00m \u001b[39mdec\u001b[39m(f: Callable[\u001b[39m.\u001b[39m\u001b[39m.\u001b[39m\u001b[39m.\u001b[39m, Any] \u001b[39m|\u001b[39m \u001b[39mclassmethod\u001b[39m[Any, Any, Any] \u001b[39m|\u001b[39m \u001b[39mstaticmethod\u001b[39m[Any, Any]) \u001b[39m-\u001b[39m\u001b[39m>\u001b[39m Any:\n",
      "\u001b[0;31mPydanticUserError\u001b[0m: If you use `@root_validator` with pre=False (the default) you MUST specify `skip_on_failure=True`. Note that `@root_validator` is deprecated and should be replaced with `@model_validator`.\n\nFor further information visit https://errors.pydantic.dev/2.3/u/root-validator-pre-skip"
     ]
    }
   ],
   "source": [
    "from pydantic import BaseModel, root_validator, ValidationError\n",
    "class LLMBase(BaseL, ABC):\n",
    "    a = 1\n",
    "    @root_validator()\n",
    "    def raise_deprecation(cls, values: Dict) -> Dict:\n",
    "        \"\"\"Raise deprecation warning if callback_manager is used.\"\"\"\n",
    "        print(values)\n",
    "        return values"
   ]
  },
  {
   "cell_type": "code",
   "execution_count": 136,
   "metadata": {},
   "outputs": [
    {
     "name": "stderr",
     "output_type": "stream",
     "text": [
      "/var/folders/_h/0855d0rd19j1vy_kmyvgzr_c0000gn/T/ipykernel_33564/676156916.py:7: PydanticDeprecatedSince20: Pydantic V1 style `@root_validator` validators are deprecated. You should migrate to Pydantic V2 style `@model_validator` validators, see the migration guide for more details. Deprecated in Pydantic V2.0 to be removed in V3.0. See Pydantic V2 Migration Guide at https://errors.pydantic.dev/2.3/migration/\n",
      "  @root_validator(pre=True, skip_on_failure=False)\n"
     ]
    },
    {
     "ename": "ValidationError",
     "evalue": "1 validation error for MyModel\n  Value error, field1 should be less than or equal to field2 [type=value_error, input_value={'field1': 5, 'field2': 3}, input_type=dict]\n    For further information visit https://errors.pydantic.dev/2.3/v/value_error",
     "output_type": "error",
     "traceback": [
      "\u001b[0;31m---------------------------------------------------------------------------\u001b[0m",
      "\u001b[0;31mValidationError\u001b[0m                           Traceback (most recent call last)",
      "Cell \u001b[0;32mIn[136], line 17\u001b[0m\n\u001b[1;32m     15\u001b[0m \u001b[39m# Creating an instance of MyModel\u001b[39;00m\n\u001b[1;32m     16\u001b[0m data \u001b[39m=\u001b[39m {\u001b[39m'\u001b[39m\u001b[39mfield1\u001b[39m\u001b[39m'\u001b[39m: \u001b[39m5\u001b[39m, \u001b[39m'\u001b[39m\u001b[39mfield2\u001b[39m\u001b[39m'\u001b[39m: \u001b[39m3\u001b[39m}\n\u001b[0;32m---> 17\u001b[0m model \u001b[39m=\u001b[39m MyModel(\u001b[39m*\u001b[39;49m\u001b[39m*\u001b[39;49mdata)  \u001b[39m# This will not raise an error due to \u001b[39;00m\n",
      "File \u001b[0;32m/Library/Frameworks/Python.framework/Versions/3.10/lib/python3.10/site-packages/pydantic/main.py:165\u001b[0m, in \u001b[0;36mBaseModel.__init__\u001b[0;34m(__pydantic_self__, **data)\u001b[0m\n\u001b[1;32m    163\u001b[0m \u001b[39m# `__tracebackhide__` tells pytest and some other tools to omit this function from tracebacks\u001b[39;00m\n\u001b[1;32m    164\u001b[0m __tracebackhide__ \u001b[39m=\u001b[39m \u001b[39mTrue\u001b[39;00m\n\u001b[0;32m--> 165\u001b[0m __pydantic_self__\u001b[39m.\u001b[39;49m__pydantic_validator__\u001b[39m.\u001b[39;49mvalidate_python(data, self_instance\u001b[39m=\u001b[39;49m__pydantic_self__)\n",
      "\u001b[0;31mValidationError\u001b[0m: 1 validation error for MyModel\n  Value error, field1 should be less than or equal to field2 [type=value_error, input_value={'field1': 5, 'field2': 3}, input_type=dict]\n    For further information visit https://errors.pydantic.dev/2.3/v/value_error"
     ]
    }
   ],
   "source": [
    "from pydantic import BaseModel, root_validator\n",
    "\n",
    "class MyModel(BaseModel):\n",
    "    field1: int\n",
    "    field2: int\n",
    "\n",
    "    @root_validator(pre=True, skip_on_failure=False)\n",
    "    def check_fields(cls, values):\n",
    "        field1 = values.get('field1')\n",
    "        field2 = values.get('field2')\n",
    "        if field1 and field2 and field1 > field2:\n",
    "            raise ValueError(\"field1 should be less than or equal to field2\")\n",
    "        return values\n",
    "\n",
    "# Creating an instance of MyModel\n",
    "data = {'field1': 5, 'field2': 3}\n",
    "model = MyModel(**data)  # This will not raise an error due to "
   ]
  },
  {
   "cell_type": "code",
   "execution_count": 156,
   "metadata": {},
   "outputs": [
    {
     "name": "stdout",
     "output_type": "stream",
     "text": [
      "{'width': 5, 'height': 3, 'client': 'AA'}\n",
      "Width: 5.0, Height: 3.0\n"
     ]
    },
    {
     "name": "stderr",
     "output_type": "stream",
     "text": [
      "/var/folders/_h/0855d0rd19j1vy_kmyvgzr_c0000gn/T/ipykernel_33564/1715184100.py:8: PydanticDeprecatedSince20: Pydantic V1 style `@root_validator` validators are deprecated. You should migrate to Pydantic V2 style `@model_validator` validators, see the migration guide for more details. Deprecated in Pydantic V2.0 to be removed in V3.0. See Pydantic V2 Migration Guide at https://errors.pydantic.dev/2.3/migration/\n",
      "  @root_validator(pre=True)\n"
     ]
    }
   ],
   "source": [
    "from pydantic import BaseModel, root_validator, validator\n",
    "\n",
    "class Rectangle(BaseModel):\n",
    "    width: float\n",
    "    height: float\n",
    "    client: Any = None\n",
    "\n",
    "    @root_validator(pre=True)\n",
    "    def validate_dimensions(cls, values):\n",
    "        width = values.get('width')\n",
    "        height = values.get('height')\n",
    "        n_ctx: int = Field(512, alias=\"n_ctx\")\n",
    "        values[\"client\"] = \"AA\"\n",
    "        print(values)\n",
    "        \n",
    "        if width <= 0 or height <= 0:\n",
    "            raise ValueError(\"Width and height must be positive values.\")\n",
    "        \n",
    "        return values\n",
    "\n",
    "# Creating an instance of Rectangle\n",
    "try:\n",
    "    rectangle = Rectangle(width=5, height=3)\n",
    "except ValueError as e:\n",
    "    print(f\"Error: {e}\")\n",
    "else:\n",
    "    print(f\"Width: {rectangle.width}, Height: {rectangle.height}\")\n"
   ]
  },
  {
   "cell_type": "code",
   "execution_count": 157,
   "metadata": {},
   "outputs": [
    {
     "name": "stdout",
     "output_type": "stream",
     "text": [
      "{'width': 5, 'height': 3, 'client': 'AA'}\n"
     ]
    }
   ],
   "source": [
    "rectangle = Rectangle(width=5, height=3)"
   ]
  },
  {
   "cell_type": "code",
   "execution_count": null,
   "metadata": {},
   "outputs": [],
   "source": []
  }
 ],
 "metadata": {
  "kernelspec": {
   "display_name": "Python 3",
   "language": "python",
   "name": "python3"
  },
  "language_info": {
   "codemirror_mode": {
    "name": "ipython",
    "version": 3
   },
   "file_extension": ".py",
   "mimetype": "text/x-python",
   "name": "python",
   "nbconvert_exporter": "python",
   "pygments_lexer": "ipython3",
   "version": "3.10.11"
  },
  "orig_nbformat": 4
 },
 "nbformat": 4,
 "nbformat_minor": 2
}
