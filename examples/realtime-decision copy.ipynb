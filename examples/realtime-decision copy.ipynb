{
 "cells": [
  {
   "cell_type": "code",
   "execution_count": 45,
   "metadata": {},
   "outputs": [],
   "source": [
    "from __future__ import annotations\n",
    "import json\n",
    "from dataclasses import asdict, dataclass\n",
    "from typing import Literal\n",
    "import openai\n",
    "import sys\n",
    "\n",
    "openai.api_key = \"XX\"\n",
    "MODEL = \"gpt-3.5-turbo\"\n",
    "\n",
    "@dataclass\n",
    "class Message:\n",
    "    role: Literal[\"system\", \"user\", \"assistant\"]\n",
    "    content: str\n",
    "\n",
    "    @staticmethod\n",
    "    def from_response(response: dict) -> Message:\n",
    "        response[\"choices\"][0][\"message\"]\n",
    "        return Message(**(response[\"choices\"][0][\"message\"]))\n",
    "\n",
    "    def __str__(self) -> str:\n",
    "        return f\"{self.role}: {self.content}\"\n",
    "\n",
    "\n",
    "class Transcript(list[Message]):\n",
    "    def raw(self) -> list[dict]:\n",
    "        return [asdict(m) for m in self]\n",
    "\n",
    "    def __str__(self) -> str:\n",
    "        return \"\\n\".join([str(m) for m in self])\n",
    "\n",
    "\n",
    "def chat_step(transcript_state: Transcript) -> Message:\n",
    "    # print(transcript_state[-1])\n",
    "    chat_completion = openai.ChatCompletion.create(\n",
    "        model=MODEL, messages=transcript_state.raw()\n",
    "    )\n",
    "    if not isinstance(chat_completion, dict):\n",
    "        raise Exception(f\"Unexpected response: {chat_completion}\")\n",
    "    response_message = Message.from_response(chat_completion)\n",
    "    transcript_state.append(response_message)\n",
    "    # print(response_message)\n",
    "    #print(\"transcript_state = \\n\", transcript_state)\n",
    "    return response_message\n",
    "\n",
    "\n",
    "# if __name__ == \"__main__\":\n",
    "#     if len(sys.argv) < 2:\n",
    "#         print(\"Usage: chat_completion.py <message>\")\n",
    "#         exit(1)\n",
    "#     transcript = Transcript(\n",
    "#         [\n",
    "#             Message(\"user\", \" \".join(sys.argv[1:])),\n",
    "#         ]\n",
    "#     )\n",
    "#     chat_step(transcript)"
   ]
  },
  {
   "cell_type": "code",
   "execution_count": 5,
   "metadata": {},
   "outputs": [
    {
     "name": "stdout",
     "output_type": "stream",
     "text": [
      "user: Hello\n",
      "assistant: Hi there! How can I assist you today?\n"
     ]
    },
    {
     "data": {
      "text/plain": [
       "Message(role='assistant', content='Hi there! How can I assist you today?')"
      ]
     },
     "execution_count": 5,
     "metadata": {},
     "output_type": "execute_result"
    }
   ],
   "source": [
    "transcript = Transcript(\n",
    "    [\n",
    "        Message(\"user\", \"Hello\")\n",
    "    ]\n",
    ")\n",
    "chat_step(transcript)"
   ]
  },
  {
   "cell_type": "code",
   "execution_count": 47,
   "metadata": {},
   "outputs": [],
   "source": [
    "prompt_template = PromptTemplate.from_template(\n",
    "\"\"\"\n",
    "Please extract information from the deal proposal market by three backsticks:\n",
    "\n",
    "#Deal proposal:\n",
    "```{deal_proposal}```\n",
    "\n",
    "#Json output format:\n",
    "{json_schema}\n",
    "\n",
    "# Reuirementts\n",
    "1. Output extracted information in the above json format\n",
    "2. If no information found for that specific column, ignore it.\n",
    "3. Only output the json object\n",
    "\"\"\"\n",
    ")"
   ]
  },
  {
   "attachments": {},
   "cell_type": "markdown",
   "metadata": {},
   "source": [
    "Offline Process\n",
    "- Convert email/voice transactript into predefined stuctured data for database ingestion\n",
    "- Summarize the key information from the context\n",
    "- Find possible match\n",
    "\n",
    "Online process:\n",
    "- ad-hoc Semantic search\n",
    "- "
   ]
  },
  {
   "attachments": {},
   "cell_type": "markdown",
   "metadata": {},
   "source": [
    "## Product recommendation based on inital context"
   ]
  },
  {
   "cell_type": "code",
   "execution_count": 50,
   "metadata": {},
   "outputs": [],
   "source": [
    "## This is generated my OPENAI\n",
    "deal_proposal = '''\n",
    "Subject: Inquiry Regarding Wine Product Shipment Logistics\n",
    "\n",
    "Dear Sarah,\n",
    "\n",
    "I hope this email finds you well. My name is Tom Hanks, and I represent Walmart, a trusted retailer known for its commitment to quality and service. We are currently in search of a reliable logistics partner to facilitate the transportation of our wine products from our storage facilities to our stores every Friday night.\n",
    "\n",
    "Our main requirement is that the chosen carrier possesses the necessary permits and qualifications to handle the transportation of wine products. Given the sensitivity and legal regulations associated with alcoholic beverages, it is imperative that we work with a reputable logistics provider who can ensure compliance with all relevant laws and regulations.\n",
    "\n",
    "We understand that your expertise lies in connecting businesses with suitable carriers, and we believe that your assistance could be invaluable in helping us find the right partner for this specific requirement. Here are some key details about our logistics needs:\n",
    "\n",
    "Frequency: We require weekly transportation services, specifically on Friday nights, to ensure our stores are well-stocked for the weekend.\n",
    "\n",
    "Origin and Destination: The shipments will originate from our storage facility, which is located at located in Fremont, CA, and will be delivered to various Walmart stores in the bay area. The specific store destinations will be provided upon further discussion.\n",
    "\n",
    "Volume: The volume of wine product shipments may vary, so flexibility in accommodating different quantities is essential.\n",
    "\n",
    "Permits: As mentioned earlier, it is mandatory that the carrier holds all the necessary permits and licenses for the transportation of wine products, and they must be compliant with all applicable regulations.\n",
    "\n",
    "Timeliness and Reliability: Punctuality and reliability are critical factors for us. We expect the carrier to adhere to agreed-upon schedules and provide efficient transportation services.\n",
    "\n",
    "In addition to regulatory compliance, we are also mindful of cost-effectiveness. Ideally, we are looking for a carrier that can provide this service within a budget of approximately $1,000 per trip. Cost efficiency is a key factor in our decision-making process.\n",
    "\n",
    "We would greatly appreciate it if you could provide us with information on carriers in your network who meet these criteria. Additionally, any relevant details regarding their experience in handling wine product shipments would be beneficial.\n",
    "\n",
    "If you have any questions or require further information from our end, please do not hesitate to reach out to us at [Your Contact Information].\n",
    "\n",
    "We look forward to your prompt response and hope to establish a successful partnership that ensures the smooth and compliant transportation of our wine products.\n",
    "\n",
    "Thank you for your time and assistance.\n",
    "\n",
    "Sincerely,\n",
    "\n",
    "Tom Hanks\n",
    "Walmart shipment center\n",
    "Walmart\n",
    "tom.hanks@walmart.com\n",
    "800-675-2025\n",
    "'''"
   ]
  },
  {
   "cell_type": "code",
   "execution_count": 51,
   "metadata": {},
   "outputs": [],
   "source": [
    "json_schema = \"\"\"\n",
    "{\n",
    "  \"type\": \"object\",\n",
    "  \"properties\": {\n",
    "    \"Agent_name\": {\n",
    "      \"type\": \"string\",\n",
    "      \"description\": \"The name of the agent who initialized this proposal.\"\n",
    "    },\n",
    "    \"agent_company\": {\n",
    "      \"type\": \"string\",\n",
    "      \"description\": \"The company name of the agent.\"\n",
    "    },\n",
    "    \"agent_email\": {\n",
    "      \"type\": \"string\",\n",
    "      \"format\": \"email\",\n",
    "      \"description\": \"The email address of the agent.\"\n",
    "    },\n",
    "    \"agent_phone_number\": {\n",
    "      \"type\": \"string\",\n",
    "      \"description\": \"The phone number of the agent.\"\n",
    "    },\n",
    "    \"items\": {\n",
    "      \"type\": \"string\",\n",
    "      \"description\": \"The item(s) to be shipped.\"\n",
    "    },\n",
    "    \"requirement\": {\n",
    "      \"type\": \"string\",\n",
    "      \"description\": \"Additional requirements or notes.\"\n",
    "    },\n",
    "    \"origin_city\": {\n",
    "      \"type\": \"string\",\n",
    "      \"description\": \"The origin of the shipment.\"\n",
    "    },\n",
    "    \"destination_city\": {\n",
    "      \"type\": \"string\",\n",
    "      \"description\": \"The destination of the shipment.\"\n",
    "    },\n",
    "    \"frequency\": {\n",
    "      \"type\": \"string\",\n",
    "      \"description\": \"The frequency of the shipment.\"\n",
    "    },\n",
    "    \"Budget\": {\n",
    "      \"type\": \"number\",\n",
    "      \"minimum\": 0,\n",
    "      \"description\": \"The budget associated with the shipment.\"\n",
    "    },\n",
    "    \"Other\": {\n",
    "      \"type\": \"string\",\n",
    "      \"description\": \"Any other relevant information.\"\n",
    "    }\n",
    "  },\n",
    "  \"required\": [\n",
    "    \"Agent_name\",\n",
    "    \"agent_email\",\n",
    "    \"items\",\n",
    "    \"origin\",\n",
    "    \"destination\",\n",
    "\n",
    "  ]\n",
    "}\n",
    "\"\"\""
   ]
  },
  {
   "attachments": {},
   "cell_type": "markdown",
   "metadata": {},
   "source": [
    "### 1. Inquery Generation\n",
    "\n",
    "Automatically convert inquery into database"
   ]
  },
  {
   "cell_type": "code",
   "execution_count": 52,
   "metadata": {},
   "outputs": [],
   "source": [
    "from langchain import PromptTemplate"
   ]
  },
  {
   "cell_type": "code",
   "execution_count": 53,
   "metadata": {},
   "outputs": [],
   "source": [
    "def get_inquery(input_conext, query_schema):\n",
    "    prompt = prompt_template.format(deal_proposal=input_conext, json_schema=query_schema)\n",
    "    transcript = Transcript(\n",
    "        [\n",
    "            Message(\"user\", prompt)\n",
    "        ]\n",
    "    )\n",
    "    res = chat_step(transcript)\n",
    "    return res.content"
   ]
  },
  {
   "cell_type": "code",
   "execution_count": 55,
   "metadata": {},
   "outputs": [],
   "source": [
    "# May need good data valiadtion before pushing into a database\n",
    "inquery_data = get_inquery(deal_proposal, json_schema)"
   ]
  },
  {
   "cell_type": "code",
   "execution_count": 56,
   "metadata": {},
   "outputs": [
    {
     "name": "stdout",
     "output_type": "stream",
     "text": [
      "{\n",
      "  \"Agent_name\": \"Tom Hanks\",\n",
      "  \"agent_company\": \"Walmart shipment center\",\n",
      "  \"agent_email\": \"tom.hanks@walmart.com\",\n",
      "  \"agent_phone_number\": \"800-675-2025\",\n",
      "  \"items\": \"Wine Product\",\n",
      "  \"requirement\": \"Carrier must possess necessary permits and qualifications to handle wine product transportation. Punctuality and reliability are important.\",\n",
      "  \"origin_city\": \"Fremont, CA\",\n",
      "  \"destination_city\": \"Bay Area\",\n",
      "  \"frequency\": \"Weekly transportation services on Friday nights\",\n",
      "  \"Budget\": 1000\n",
      "}\n"
     ]
    }
   ],
   "source": [
    "print(inquery_data)"
   ]
  },
  {
   "attachments": {},
   "cell_type": "markdown",
   "metadata": {},
   "source": [
    "### 2. Inquery Insights"
   ]
  },
  {
   "cell_type": "code",
   "execution_count": 116,
   "metadata": {},
   "outputs": [],
   "source": [
    "key_requirement_prompt = PromptTemplate.from_template(\"\"\"\n",
    "Please summarize the top 5 key requirement form the proposal\n",
    "                                                      \n",
    "## Proposal\n",
    "{proposal}\n",
    "                                                      \n",
    "Output the requirement in the format of list of strings\n",
    "\n",
    "\"\"\"\n",
    ")"
   ]
  },
  {
   "cell_type": "code",
   "execution_count": 117,
   "metadata": {},
   "outputs": [],
   "source": [
    "prompt = key_requirement_prompt.format(proposal=deal_proposal)\n",
    "transcript = Transcript(\n",
    "    [\n",
    "        Message(\"user\", prompt)\n",
    "    ]\n",
    ")\n",
    "res = chat_step(transcript)"
   ]
  },
  {
   "cell_type": "code",
   "execution_count": 118,
   "metadata": {},
   "outputs": [
    {
     "name": "stdout",
     "output_type": "stream",
     "text": [
      "1. Necessary permits and qualifications for handling wine product transportation.\n",
      "2. Weekly transportation services on Friday nights.\n",
      "3. Shipment from Fremont, CA, to various Walmart stores in the bay area.\n",
      "4. Flexibility in accommodating varying volumes of wine product shipments.\n",
      "5. Timeliness, reliability, and adherence to agreed-upon schedules.\n"
     ]
    }
   ],
   "source": [
    "print(res.content)"
   ]
  },
  {
   "cell_type": "code",
   "execution_count": null,
   "metadata": {},
   "outputs": [],
   "source": [
    "carriers = [\n",
    "    {\n",
    "        \"name\": \"shipper comany 1\",\n",
    "        \"services\": \"Cross-Border Transportation, Freight Forwarding, Transportation Management\"\n",
    "    },\n",
    "    {\n",
    "        \"name\": \"shipper comany 2\",\n",
    "        \"services\": \"Order fulfillment, Warehousing, Inventory management\"\n",
    "    }\n",
    "\n",
    "]"
   ]
  },
  {
   "cell_type": "code",
   "execution_count": 57,
   "metadata": {},
   "outputs": [],
   "source": [
    "# get recommendations\n",
    "# Assume we have a product/caryyier databse \n",
    "# query the qualified database with customer's inquery\n"
   ]
  }
 ],
 "metadata": {
  "kernelspec": {
   "display_name": "Python 3",
   "language": "python",
   "name": "python3"
  },
  "language_info": {
   "codemirror_mode": {
    "name": "ipython",
    "version": 3
   },
   "file_extension": ".py",
   "mimetype": "text/x-python",
   "name": "python",
   "nbconvert_exporter": "python",
   "pygments_lexer": "ipython3",
   "version": "3.10.11"
  },
  "orig_nbformat": 4
 },
 "nbformat": 4,
 "nbformat_minor": 2
}
