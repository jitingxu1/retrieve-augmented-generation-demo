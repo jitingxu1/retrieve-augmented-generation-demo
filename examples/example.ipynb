{
 "cells": [
  {
   "attachments": {},
   "cell_type": "markdown",
   "metadata": {},
   "source": [
    "# startup app\n",
    "run `./bin/dev` in terminal"
   ]
  },
  {
   "attachments": {},
   "cell_type": "markdown",
   "metadata": {},
   "source": [
    "# Process PDF"
   ]
  },
  {
   "cell_type": "code",
   "execution_count": 72,
   "metadata": {},
   "outputs": [
    {
     "name": "stdout",
     "output_type": "stream",
     "text": [
      "{'message': 'Hello, World'}\n"
     ]
    }
   ],
   "source": [
    "import requests\n",
    "\n",
    "# URL of the endpoint\n",
    "url = \"http://localhost:8000\"  # Replace with your server's URL if different\n",
    "\n",
    "# Send a GET request to the endpoint\n",
    "response = requests.get(url)\n",
    "\n",
    "# Check the response status code\n",
    "if response.status_code == 200:\n",
    "    # Parse and print the JSON response\n",
    "    data = response.json()\n",
    "    print(data)\n",
    "else:\n",
    "    print(\"GET request failed\")"
   ]
  },
  {
   "cell_type": "code",
   "execution_count": 104,
   "metadata": {},
   "outputs": [
    {
     "name": "stdout",
     "output_type": "stream",
     "text": [
      "File upload successful\n",
      "{'success': True}\n"
     ]
    }
   ],
   "source": [
    "import requests\n",
    "\n",
    "# Define the URL of the FastAPI server\n",
    "url = \"http://localhost:8000/upload-files\"  # Replace with the actual server URL\n",
    "\n",
    "# Prepare the PDF file to upload\n",
    "files = {'pdf': ('../pdf/what-is-insurance_handout.pdf', open('../pdf/what-is-insurance_handout.pdf', 'rb'))}  # Replace 'example.pdf' with the actual file path\n",
    "\n",
    "try:\n",
    "    # Send the POST request\n",
    "    response = requests.post(url, files=files)\n",
    "\n",
    "    # Check the response status code\n",
    "    if response.status_code == 200:\n",
    "        print(\"File upload successful\")\n",
    "        # You can access the response content if needed\n",
    "        print(response.json())\n",
    "    else:\n",
    "        print(f\"File upload failed with status code {response.status_code}\")\n",
    "        print(response.text)\n",
    "except requests.exceptions.RequestException as e:\n",
    "    print(f\"Request error: {e}\")\n",
    "except Exception as ex:\n",
    "    print(f\"An error occurred: {ex}\")\n"
   ]
  },
  {
   "cell_type": "code",
   "execution_count": 105,
   "metadata": {},
   "outputs": [
    {
     "name": "stdout",
     "output_type": "stream",
     "text": [
      "{'answer': 'Answer:\\n'\n",
      "           'Insurance is a way to manage risk by purchasing protection against '\n",
      "           'unexpected financial losses and having the right insurance can '\n",
      "           \"make a big difference in one's life.\",\n",
      " 'documents': [[{'metadata': {},\n",
      "                 'page_content': 'Summer 20221 of 3 BUILDING BLOCKS STUDENT '\n",
      "                                 'HANDOUT  What is insurance?\\ue401 BUILDING '\n",
      "                                 'BLOCKS STUDENT HANDOUT What is insurance? '\n",
      "                                 'Insurance is a way to manage your risk. When '\n",
      "                                 'you buy insurance,   you purchase protection '\n",
      "                                 'against unexpected financial losses. The '\n",
      "                                 'insurance company pays you or someone you '\n",
      "                                 'choose if  something bad happens to you. If '\n",
      "                                 'you have no insurance and an accident  '\n",
      "                                 'happens, you may be responsible for all '\n",
      "                                 'related costs. Having the right insurance '\n",
      "                                 'for the risks you may face can make a big '\n",
      "                                 'difference in your life. People get '\n",
      "                                 'insurance not only to help with  risks from '\n",
      "                                 'unexpected events but also to help pay for '\n",
      "                                 'routine things, such as annual medical '\n",
      "                                 'checkups and dental visits. In addition, '\n",
      "                                 'insurance companies negotiate discounts with '\n",
      "                                 'health care providers, so their customers '\n",
      "                                 'pay those discounted rates. An insurance '\n",
      "                                 'policy is a written contract between the '\n",
      "                                 'policyholder (the person or  company that '\n",
      "                                 'gets the policy) and the insurer (the '\n",
      "                                 'insurance company).'},\n",
      "                0.859508395],\n",
      "               [{'metadata': {},\n",
      "                 'page_content': 'Summer 20221 of 3 BUILDING BLOCKS STUDENT '\n",
      "                                 'HANDOUT  What is insurance?\\ue401 BUILDING '\n",
      "                                 'BLOCKS STUDENT HANDOUT What is insurance? '\n",
      "                                 'Insurance is a way to manage your risk. When '\n",
      "                                 'you buy insurance,   you purchase protection '\n",
      "                                 'against unexpected financial losses. The '\n",
      "                                 'insurance company pays you or someone you '\n",
      "                                 'choose if  something bad happens to you. If '\n",
      "                                 'you have no insurance and an accident  '\n",
      "                                 'happens, you may be responsible for all '\n",
      "                                 'related costs. Having the right insurance '\n",
      "                                 'for the risks you may face can make a big '\n",
      "                                 'difference in your life. People get '\n",
      "                                 'insurance not only to help with  risks from '\n",
      "                                 'unexpected events but also to help pay for '\n",
      "                                 'routine things, such as annual medical '\n",
      "                                 'checkups and dental visits. In addition, '\n",
      "                                 'insurance companies negotiate discounts with '\n",
      "                                 'health care providers, so their customers '\n",
      "                                 'pay those discounted rates. An insurance '\n",
      "                                 'policy is a written contract between the '\n",
      "                                 'policyholder (the person or  company that '\n",
      "                                 'gets the policy) and the insurer (the '\n",
      "                                 'insurance company). The policyholder is not '\n",
      "                                 'necessarily the insured. An individual or '\n",
      "                                 'company may get  an insurance policy (making '\n",
      "                                 'them the policyholder) that protects another '\n",
      "                                 'person or entity (who is the insured). For '\n",
      "                                 'example, when a company buys life insurance '\n",
      "                                 'for an employee, the employee is the '\n",
      "                                 'insured, and the company is the '\n",
      "                                 'policyholder. How does insurance reduce your '\n",
      "                                 'financial risk? Imagine you’re driving your '\n",
      "                                 'car and you hit a deer, which damages your '\n",
      "                                 'car. If you have the right kind of auto '\n",
      "                                 'insurance policy, the insurance company will '\n",
      "                                 'pay the costs of the car repairs (minus the '\n",
      "                                 'deductible — the portion you have to pay). '\n",
      "                                 'Now, imagine a water pipe bursts in your '\n",
      "                                 'bathroom, ruining everything in that  room '\n",
      "                                 'and in the bedroom next to it. Typically, if '\n",
      "                                 'you have homeowner’s or renter’s insurance, '\n",
      "                                 'the insurance company will pay to replace '\n",
      "                                 'some or all of the damaged property, once '\n",
      "                                 'you pay your deductible. Insurance policies '\n",
      "                                 'will only pay for things that are described '\n",
      "                                 'in the policy. So it’s important to read a '\n",
      "                                 'policy carefully before you buy it so you’ll '\n",
      "                                 'know exactly what’s covered. Summer 20222 of '\n",
      "                                 '3 BUILDING BLOCKS STUDENT HANDOUT  What is '\n",
      "                                 'insurance?How does an insurance policy work? '\n",
      "                                 'Insurance policies are often in place for a '\n",
      "                                 'specific period of time. This can be  '\n",
      "                                 'referred to as the policy term. At the end '\n",
      "                                 'of that term, you need to renew the policy '\n",
      "                                 'or buy a new one. With some types of '\n",
      "                                 'insurance, you choose a beneficiary, the '\n",
      "                                 'person you want to receive the policy’s '\n",
      "                                 'benefits or payments. When you buy an '\n",
      "                                 'insurance policy, part of your '\n",
      "                                 'responsibility includes paying   a fee '\n",
      "                                 'called a premium. Some premiums are paid '\n",
      "                                 'monthly, like health insurance. Others may '\n",
      "                                 'be paid once or twice a year, like auto or '\n",
      "                                 'homeowner’s insurance. The cost of your '\n",
      "                                 'premium generally depends on how much of a '\n",
      "                                 'risk you are to the  insurance company. In '\n",
      "                                 'addition to the premiums, most insurance '\n",
      "                                 'policies include a  deductible. That’s the '\n",
      "                                 'amount you have to pay first, before the '\n",
      "                                 'insurance company pays their share. For '\n",
      "                                 'example, if you have a $500 deductible on '\n",
      "                                 'your homeowner’s policy and a storm causes '\n",
      "                                 '$3,000 in damage, you will pay $500 and your '\n",
      "                                 'insurance company will pay $2,500. With some '\n",
      "                                 'policies, you can choose your deductible. '\n",
      "                                 'Usually, a higher deductible means a lower '\n",
      "                                 'insurance premium. TIP A good rule to live '\n",
      "                                 'by is to  try to have an emergency savings '\n",
      "                                 'fund to cover the  cost of a deductible '\n",
      "                                 'should  an accident occur. What are common '\n",
      "                                 'types of insurance? There are many types of '\n",
      "                                 'insurance, but some common types are '\n",
      "                                 'described here. §Health insurance:  Helps '\n",
      "                                 'you pay for doctor fees and sometimes '\n",
      "                                 'prescription  drugs. Once you buy health '\n",
      "                                 'insurance coverage, you and your health '\n",
      "                                 'insurer each agree to pay a part of your '\n",
      "                                 'medical expenses — usually a certain dollar '\n",
      "                                 'amount or percentage of the expenses. §Life '\n",
      "                                 'insurance:  Pays a beneficiary you select a '\n",
      "                                 'set amount of money if or when  you die. The '\n",
      "                                 'money from your life insurance policy can '\n",
      "                                 'help your family pay  bills and cover living '\n",
      "                                 'expenses. There are different types of life '\n",
      "                                 'insurance. One is term life insurance, which '\n",
      "                                 'pays a benefit only if the insured person '\n",
      "                                 'dies during the term of the policy (usually '\n",
      "                                 'from one to 30 years). Another is whole   '\n",
      "                                 'life insurance, which pays a benefit '\n",
      "                                 'whenever the insured person dies. '\n",
      "                                 '§Disability insurance: Protects individuals '\n",
      "                                 'and their families from financial  hardship '\n",
      "                                 'when illness or injury prevents them from '\n",
      "                                 'earning a living. Many employers offer some '\n",
      "                                 'form of disability coverage to employees, or '\n",
      "                                 'you can   buy an individual disability '\n",
      "                                 'insurance policy. Summer 20223 of 3 BUILDING '\n",
      "                                 'BLOCKS STUDENT HANDOUT  What is insurance? '\n",
      "                                 '§Auto insurance: Protects you from paying '\n",
      "                                 'the full cost for vehicle repairs and  '\n",
      "                                 'medical expenses due to a collision. In most '\n",
      "                                 'states, the law requires you to have auto '\n",
      "                                 'insurance when operating a motor vehicle. '\n",
      "                                 '§Homeowner’s or renter’s insurance: Covers '\n",
      "                                 'your home and the personal belongings inside '\n",
      "                                 'in the event of loss or theft; helps pay for '\n",
      "                                 'repairs and replacement. If you have a '\n",
      "                                 'mortgage on your property, most lenders '\n",
      "                                 'require you to have homeowner’s insurance. '\n",
      "                                 'If you’re renting, the landlord might '\n",
      "                                 'require you to have renter’s insurance. What '\n",
      "                                 'should you consider when buying an   '\n",
      "                                 'insurance policy? A useful rule to live by '\n",
      "                                 'is to do your homework before you buy '\n",
      "                                 'insurance. Research  any insurance company '\n",
      "                                 'you’re thinking about buying from to be sure '\n",
      "                                 'that the company is financially sound and '\n",
      "                                 'provides good service. Also find out what '\n",
      "                                 'factors matter so that you can get the '\n",
      "                                 'coverage you need at the best price.'},\n",
      "                0.850221217]],\n",
      " 'query': 'Hello, what is insurance'}\n"
     ]
    }
   ],
   "source": [
    "import requests\n",
    "import json\n",
    "from pprint import pprint\n",
    "\n",
    "# Define the URL of the API endpoint\n",
    "api_url = \"http://localhost:8000/question\"\n",
    "\n",
    "# Define the parameters for the request\n",
    "params = {\n",
    "    \"question\": \"Hello, what is insurance\",\n",
    "}\n",
    "\n",
    "# Send a GET request to the API endpoint\n",
    "response = requests.post(api_url, params=params)\n",
    "\n",
    "data = response.json()\n",
    "formatted_json = json.dumps(data, indent=4)  # Convert to formatted string\n",
    "pprint(json.loads(formatted_json))"
   ]
  },
  {
   "attachments": {},
   "cell_type": "markdown",
   "metadata": {},
   "source": [
    "# Ask Questions"
   ]
  },
  {
   "attachments": {},
   "cell_type": "markdown",
   "metadata": {},
   "source": [
    "## Open AI"
   ]
  },
  {
   "cell_type": "code",
   "execution_count": 5,
   "metadata": {},
   "outputs": [
    {
     "name": "stdout",
     "output_type": "stream",
     "text": [
      "{'answer': '\\n'\n",
      "           'The document mentions Health insurance, Life insurance, and '\n",
      "           'Disability insurance.',\n",
      " 'context': 'What are common types of insurance? There are many types of '\n",
      "            'insurance, but some common types are described here. §Health '\n",
      "            'insurance:  Helps you pay for doctor fees and sometimes '\n",
      "            'prescription  drugs. Once you buy health insurance coverage, you '\n",
      "            'and your health insurer each agree to pay a part of your medical '\n",
      "            'expenses — usually a certain dollar amount or percentage of the '\n",
      "            'expenses. §Life insurance:  Pays a beneficiary you select a set '\n",
      "            'amount of money if or when  you die. The money from your life '\n",
      "            'insurance policy can help your family pay  bills and cover living '\n",
      "            'expenses. There are different types of life insurance. One is '\n",
      "            'term life insurance, which pays a benefit only if the insured '\n",
      "            'person dies during the term of the policy (usually from one to 30 '\n",
      "            'years). Another is whole   life insurance, which pays a benefit '\n",
      "            'whenever the insured person dies. §Disability insurance: Protects '\n",
      "            'individuals and their families from financial  hardship when '\n",
      "            'illness or injury prevents them from earning a living.',\n",
      " 'question': 'what kind of insurance are mentioned in this document'}\n"
     ]
    }
   ],
   "source": [
    "import requests\n",
    "import json\n",
    "from pprint import pprint\n",
    "\n",
    "# Define the URL of the API endpoint\n",
    "api_url = \"http://localhost:8000/ask\"\n",
    "\n",
    "# Define the parameters for the request\n",
    "params = {\n",
    "    \"question\": \"what kind of insurance are mentioned in this document\",\n",
    "    \"query_model\": \"openai\",\n",
    "    \"top_k\": 1,\n",
    "    \"distance_threshold\": 0,    \n",
    "    \"pdf_document\": \"what-is-insurance_handout.pdf\"\n",
    "}\n",
    "\n",
    "# Send a GET request to the API endpoint\n",
    "response = requests.get(api_url, params=params)\n",
    "\n",
    "data = response.json()\n",
    "formatted_json = json.dumps(data, indent=4)  # Convert to formatted string\n",
    "pprint(json.loads(formatted_json))"
   ]
  },
  {
   "attachments": {},
   "cell_type": "markdown",
   "metadata": {},
   "source": [
    "## ASK LlaMMa"
   ]
  },
  {
   "cell_type": "code",
   "execution_count": 10,
   "metadata": {},
   "outputs": [
    {
     "name": "stdout",
     "output_type": "stream",
     "text": [
      "{'answer': 'Answer: The answer to the question \"What kind of insurance are '\n",
      "           'mentioned in this document\" is that there are two types of '\n",
      "           'insurance policies discussed in the text - auto and '\n",
      "           \"homeowner's/renter's insurance. \",\n",
      " 'context': 'For example, when a company buys life insurance for an employee, '\n",
      "            'the employee is the insured, and the company is the policyholder. '\n",
      "            'How does insurance reduce your financial risk? Imagine you’re '\n",
      "            'driving your car and you hit a deer, which damages your car. If '\n",
      "            'you have the right kind of auto insurance policy, the insurance '\n",
      "            'company will pay the costs of the car repairs (minus the '\n",
      "            'deductible — the portion you have to pay). Now, imagine a water '\n",
      "            'pipe bursts in your bathroom, ruining everything in that  room '\n",
      "            'and in the bedroom next to it. Typically, if you have homeowner’s '\n",
      "            'or renter’s insurance, the insurance company will pay to replace '\n",
      "            'some or all of the damaged property, once you pay your '\n",
      "            'deductible. Insurance policies will only pay for things that are '\n",
      "            'described in the policy. So it’s important to read a policy '\n",
      "            'carefully before you buy it so you’ll know exactly what’s '\n",
      "            'covered. Summer 20222 of 3 BUILDING BLOCKS STUDENT HANDOUT  What '\n",
      "            'is insurance?How does an insurance policy work?',\n",
      " 'question': 'what kind of insurance are mentioned in this document'}\n"
     ]
    }
   ],
   "source": [
    "import requests\n",
    "import json\n",
    "from pprint import pprint\n",
    "\n",
    "# Define the URL of the API endpoint\n",
    "api_url = \"http://localhost:8000/ask\"\n",
    "\n",
    "# Define the parameters for the request\n",
    "params = {\n",
    "    \"question\": \"what kind of insurance are mentioned in this document\",\n",
    "    \"query_model\": \"llamma\",\n",
    "    \"top_k\": 1,\n",
    "    \"distance_threshold\": 0,    \n",
    "    \"pdf_document\": \"what-is-insurance_handout.pdf\"\n",
    "}\n",
    "\n",
    "# Send a GET request to the API endpoint\n",
    "response = requests.get(api_url, params=params)\n",
    "\n",
    "data = response.json()\n",
    "formatted_json = json.dumps(data, indent=4)  # Convert to formatted string\n",
    "pprint(json.loads(formatted_json))"
   ]
  },
  {
   "attachments": {},
   "cell_type": "markdown",
   "metadata": {},
   "source": [
    "## Reset all pinecone index"
   ]
  },
  {
   "cell_type": "code",
   "execution_count": 5,
   "metadata": {},
   "outputs": [
    {
     "name": "stdout",
     "output_type": "stream",
     "text": [
      "{'message': 'success'}\n"
     ]
    }
   ],
   "source": [
    "import requests\n",
    "\n",
    "url = \"http://127.0.0.1:8000/index_refresh/\"\n",
    "\n",
    "\n",
    "response = requests.post(url)\n",
    "print(response.json())"
   ]
  }
 ],
 "metadata": {
  "kernelspec": {
   "display_name": "Python 3",
   "language": "python",
   "name": "python3"
  },
  "language_info": {
   "codemirror_mode": {
    "name": "ipython",
    "version": 3
   },
   "file_extension": ".py",
   "mimetype": "text/x-python",
   "name": "python",
   "nbconvert_exporter": "python",
   "pygments_lexer": "ipython3",
   "version": "3.10.11"
  },
  "orig_nbformat": 4
 },
 "nbformat": 4,
 "nbformat_minor": 2
}
