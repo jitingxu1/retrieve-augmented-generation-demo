{
 "cells": [
  {
   "attachments": {},
   "cell_type": "markdown",
   "metadata": {},
   "source": [
    "# startup app\n",
    "run `./bin/dev` in terminal"
   ]
  },
  {
   "attachments": {},
   "cell_type": "markdown",
   "metadata": {},
   "source": [
    "# Process PDF"
   ]
  },
  {
   "cell_type": "code",
   "execution_count": 6,
   "metadata": {},
   "outputs": [],
   "source": [
    "import requests\n",
    "import json\n",
    "from pprint import pprint\n",
    "\n",
    "url = \"http://127.0.0.1:8000/process_pdf/\"\n",
    "pdf_file = \"../pdf/what-is-insurance_handout.pdf\"\n",
    "files = {\n",
    "    \"pdf\": open(pdf_file, \"rb\")\n",
    "    }\n",
    "\n",
    "\n",
    "response = requests.post(url, files=files)"
   ]
  },
  {
   "cell_type": "code",
   "execution_count": 7,
   "metadata": {},
   "outputs": [
    {
     "name": "stdout",
     "output_type": "stream",
     "text": [
      "{'cnt_new_llamma_vectors': 4,\n",
      " 'cnt_new_openai_vectors': 4,\n",
      " 'file_name': 'what-is-insurance_handout.pdf',\n",
      " 'llamma_dimension': 4096,\n",
      " 'openai_dimension': 1536,\n",
      " 'openai_index_fullness': 0.0,\n",
      " 'total_llamma_vector_count': 0,\n",
      " 'total_openai_vector_count': 4}\n"
     ]
    }
   ],
   "source": [
    "import json\n",
    "from pprint import pprint\n",
    "data = response.json()\n",
    "formatted_json = json.dumps(data, indent=4)  # Convert to formatted string\n",
    "pprint(json.loads(formatted_json))"
   ]
  },
  {
   "attachments": {},
   "cell_type": "markdown",
   "metadata": {},
   "source": [
    "# Ask Questions"
   ]
  },
  {
   "attachments": {},
   "cell_type": "markdown",
   "metadata": {},
   "source": [
    "## Open AI"
   ]
  },
  {
   "cell_type": "code",
   "execution_count": 5,
   "metadata": {},
   "outputs": [
    {
     "name": "stdout",
     "output_type": "stream",
     "text": [
      "{'answer': '\\n'\n",
      "           'The document mentions Health insurance, Life insurance, and '\n",
      "           'Disability insurance.',\n",
      " 'context': 'What are common types of insurance? There are many types of '\n",
      "            'insurance, but some common types are described here. §Health '\n",
      "            'insurance:  Helps you pay for doctor fees and sometimes '\n",
      "            'prescription  drugs. Once you buy health insurance coverage, you '\n",
      "            'and your health insurer each agree to pay a part of your medical '\n",
      "            'expenses — usually a certain dollar amount or percentage of the '\n",
      "            'expenses. §Life insurance:  Pays a beneficiary you select a set '\n",
      "            'amount of money if or when  you die. The money from your life '\n",
      "            'insurance policy can help your family pay  bills and cover living '\n",
      "            'expenses. There are different types of life insurance. One is '\n",
      "            'term life insurance, which pays a benefit only if the insured '\n",
      "            'person dies during the term of the policy (usually from one to 30 '\n",
      "            'years). Another is whole   life insurance, which pays a benefit '\n",
      "            'whenever the insured person dies. §Disability insurance: Protects '\n",
      "            'individuals and their families from financial  hardship when '\n",
      "            'illness or injury prevents them from earning a living.',\n",
      " 'question': 'what kind of insurance are mentioned in this document'}\n"
     ]
    }
   ],
   "source": [
    "import requests\n",
    "import json\n",
    "from pprint import pprint\n",
    "\n",
    "# Define the URL of the API endpoint\n",
    "api_url = \"http://localhost:8000/ask\"\n",
    "\n",
    "# Define the parameters for the request\n",
    "params = {\n",
    "    \"question\": \"what kind of insurance are mentioned in this document\",\n",
    "    \"query_model\": \"openai\",\n",
    "    \"top_k\": 1,\n",
    "    \"distance_threshold\": 0,    \n",
    "    \"pdf_document\": \"what-is-insurance_handout.pdf\"\n",
    "}\n",
    "\n",
    "# Send a GET request to the API endpoint\n",
    "response = requests.get(api_url, params=params)\n",
    "\n",
    "data = response.json()\n",
    "formatted_json = json.dumps(data, indent=4)  # Convert to formatted string\n",
    "pprint(json.loads(formatted_json))"
   ]
  },
  {
   "attachments": {},
   "cell_type": "markdown",
   "metadata": {},
   "source": [
    "## ASK LlaMMa"
   ]
  },
  {
   "cell_type": "code",
   "execution_count": 10,
   "metadata": {},
   "outputs": [
    {
     "name": "stdout",
     "output_type": "stream",
     "text": [
      "{'answer': 'Answer: The answer to the question \"What kind of insurance are '\n",
      "           'mentioned in this document\" is that there are two types of '\n",
      "           'insurance policies discussed in the text - auto and '\n",
      "           \"homeowner's/renter's insurance. \",\n",
      " 'context': 'For example, when a company buys life insurance for an employee, '\n",
      "            'the employee is the insured, and the company is the policyholder. '\n",
      "            'How does insurance reduce your financial risk? Imagine you’re '\n",
      "            'driving your car and you hit a deer, which damages your car. If '\n",
      "            'you have the right kind of auto insurance policy, the insurance '\n",
      "            'company will pay the costs of the car repairs (minus the '\n",
      "            'deductible — the portion you have to pay). Now, imagine a water '\n",
      "            'pipe bursts in your bathroom, ruining everything in that  room '\n",
      "            'and in the bedroom next to it. Typically, if you have homeowner’s '\n",
      "            'or renter’s insurance, the insurance company will pay to replace '\n",
      "            'some or all of the damaged property, once you pay your '\n",
      "            'deductible. Insurance policies will only pay for things that are '\n",
      "            'described in the policy. So it’s important to read a policy '\n",
      "            'carefully before you buy it so you’ll know exactly what’s '\n",
      "            'covered. Summer 20222 of 3 BUILDING BLOCKS STUDENT HANDOUT  What '\n",
      "            'is insurance?How does an insurance policy work?',\n",
      " 'question': 'what kind of insurance are mentioned in this document'}\n"
     ]
    }
   ],
   "source": [
    "import requests\n",
    "import json\n",
    "from pprint import pprint\n",
    "\n",
    "# Define the URL of the API endpoint\n",
    "api_url = \"http://localhost:8000/ask\"\n",
    "\n",
    "# Define the parameters for the request\n",
    "params = {\n",
    "    \"question\": \"what kind of insurance are mentioned in this document\",\n",
    "    \"query_model\": \"llamma\",\n",
    "    \"top_k\": 1,\n",
    "    \"distance_threshold\": 0,    \n",
    "    \"pdf_document\": \"what-is-insurance_handout.pdf\"\n",
    "}\n",
    "\n",
    "# Send a GET request to the API endpoint\n",
    "response = requests.get(api_url, params=params)\n",
    "\n",
    "data = response.json()\n",
    "formatted_json = json.dumps(data, indent=4)  # Convert to formatted string\n",
    "pprint(json.loads(formatted_json))"
   ]
  },
  {
   "attachments": {},
   "cell_type": "markdown",
   "metadata": {},
   "source": [
    "## Reset all pinecone index"
   ]
  },
  {
   "cell_type": "code",
   "execution_count": 5,
   "metadata": {},
   "outputs": [
    {
     "name": "stdout",
     "output_type": "stream",
     "text": [
      "{'message': 'success'}\n"
     ]
    }
   ],
   "source": [
    "import requests\n",
    "\n",
    "url = \"http://127.0.0.1:8000/index_refresh/\"\n",
    "\n",
    "\n",
    "response = requests.post(url)\n",
    "print(response.json())"
   ]
  }
 ],
 "metadata": {
  "kernelspec": {
   "display_name": "Python 3",
   "language": "python",
   "name": "python3"
  },
  "language_info": {
   "codemirror_mode": {
    "name": "ipython",
    "version": 3
   },
   "file_extension": ".py",
   "mimetype": "text/x-python",
   "name": "python",
   "nbconvert_exporter": "python",
   "pygments_lexer": "ipython3",
   "version": "3.10.11"
  },
  "orig_nbformat": 4
 },
 "nbformat": 4,
 "nbformat_minor": 2
}
